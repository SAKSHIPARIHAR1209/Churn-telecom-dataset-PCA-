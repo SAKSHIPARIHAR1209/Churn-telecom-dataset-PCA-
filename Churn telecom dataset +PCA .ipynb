{
 "cells": [
  {
   "cell_type": "code",
   "execution_count": 1,
   "id": "69174be8",
   "metadata": {},
   "outputs": [],
   "source": [
    "import pandas as pd\n",
    "import numpy as np"
   ]
  },
  {
   "cell_type": "code",
   "execution_count": 2,
   "id": "b6a82ff4",
   "metadata": {},
   "outputs": [],
   "source": [
    "df=pd.read_csv(\"bigml_59c28831336c6604c800002a.csv\")"
   ]
  },
  {
   "cell_type": "code",
   "execution_count": 3,
   "id": "bc08650c",
   "metadata": {},
   "outputs": [
    {
     "data": {
      "text/plain": [
       "((3333, 21), 69993)"
      ]
     },
     "execution_count": 3,
     "metadata": {},
     "output_type": "execute_result"
    }
   ],
   "source": [
    "df.shape,df.size"
   ]
  },
  {
   "cell_type": "code",
   "execution_count": 4,
   "id": "05da4445",
   "metadata": {},
   "outputs": [
    {
     "data": {
      "text/html": [
       "<div>\n",
       "<style scoped>\n",
       "    .dataframe tbody tr th:only-of-type {\n",
       "        vertical-align: middle;\n",
       "    }\n",
       "\n",
       "    .dataframe tbody tr th {\n",
       "        vertical-align: top;\n",
       "    }\n",
       "\n",
       "    .dataframe thead th {\n",
       "        text-align: right;\n",
       "    }\n",
       "</style>\n",
       "<table border=\"1\" class=\"dataframe\">\n",
       "  <thead>\n",
       "    <tr style=\"text-align: right;\">\n",
       "      <th></th>\n",
       "      <th>state</th>\n",
       "      <th>account length</th>\n",
       "      <th>area code</th>\n",
       "      <th>phone number</th>\n",
       "      <th>international plan</th>\n",
       "      <th>voice mail plan</th>\n",
       "      <th>number vmail messages</th>\n",
       "      <th>total day minutes</th>\n",
       "      <th>total day calls</th>\n",
       "      <th>total day charge</th>\n",
       "      <th>...</th>\n",
       "      <th>total eve calls</th>\n",
       "      <th>total eve charge</th>\n",
       "      <th>total night minutes</th>\n",
       "      <th>total night calls</th>\n",
       "      <th>total night charge</th>\n",
       "      <th>total intl minutes</th>\n",
       "      <th>total intl calls</th>\n",
       "      <th>total intl charge</th>\n",
       "      <th>customer service calls</th>\n",
       "      <th>churn</th>\n",
       "    </tr>\n",
       "  </thead>\n",
       "  <tbody>\n",
       "    <tr>\n",
       "      <th>0</th>\n",
       "      <td>KS</td>\n",
       "      <td>128</td>\n",
       "      <td>415</td>\n",
       "      <td>382-4657</td>\n",
       "      <td>no</td>\n",
       "      <td>yes</td>\n",
       "      <td>25</td>\n",
       "      <td>265.1</td>\n",
       "      <td>110</td>\n",
       "      <td>45.07</td>\n",
       "      <td>...</td>\n",
       "      <td>99</td>\n",
       "      <td>16.78</td>\n",
       "      <td>244.7</td>\n",
       "      <td>91</td>\n",
       "      <td>11.01</td>\n",
       "      <td>10.0</td>\n",
       "      <td>3</td>\n",
       "      <td>2.70</td>\n",
       "      <td>1</td>\n",
       "      <td>False</td>\n",
       "    </tr>\n",
       "    <tr>\n",
       "      <th>1</th>\n",
       "      <td>OH</td>\n",
       "      <td>107</td>\n",
       "      <td>415</td>\n",
       "      <td>371-7191</td>\n",
       "      <td>no</td>\n",
       "      <td>yes</td>\n",
       "      <td>26</td>\n",
       "      <td>161.6</td>\n",
       "      <td>123</td>\n",
       "      <td>27.47</td>\n",
       "      <td>...</td>\n",
       "      <td>103</td>\n",
       "      <td>16.62</td>\n",
       "      <td>254.4</td>\n",
       "      <td>103</td>\n",
       "      <td>11.45</td>\n",
       "      <td>13.7</td>\n",
       "      <td>3</td>\n",
       "      <td>3.70</td>\n",
       "      <td>1</td>\n",
       "      <td>False</td>\n",
       "    </tr>\n",
       "    <tr>\n",
       "      <th>2</th>\n",
       "      <td>NJ</td>\n",
       "      <td>137</td>\n",
       "      <td>415</td>\n",
       "      <td>358-1921</td>\n",
       "      <td>no</td>\n",
       "      <td>no</td>\n",
       "      <td>0</td>\n",
       "      <td>243.4</td>\n",
       "      <td>114</td>\n",
       "      <td>41.38</td>\n",
       "      <td>...</td>\n",
       "      <td>110</td>\n",
       "      <td>10.30</td>\n",
       "      <td>162.6</td>\n",
       "      <td>104</td>\n",
       "      <td>7.32</td>\n",
       "      <td>12.2</td>\n",
       "      <td>5</td>\n",
       "      <td>3.29</td>\n",
       "      <td>0</td>\n",
       "      <td>False</td>\n",
       "    </tr>\n",
       "    <tr>\n",
       "      <th>3</th>\n",
       "      <td>OH</td>\n",
       "      <td>84</td>\n",
       "      <td>408</td>\n",
       "      <td>375-9999</td>\n",
       "      <td>yes</td>\n",
       "      <td>no</td>\n",
       "      <td>0</td>\n",
       "      <td>299.4</td>\n",
       "      <td>71</td>\n",
       "      <td>50.90</td>\n",
       "      <td>...</td>\n",
       "      <td>88</td>\n",
       "      <td>5.26</td>\n",
       "      <td>196.9</td>\n",
       "      <td>89</td>\n",
       "      <td>8.86</td>\n",
       "      <td>6.6</td>\n",
       "      <td>7</td>\n",
       "      <td>1.78</td>\n",
       "      <td>2</td>\n",
       "      <td>False</td>\n",
       "    </tr>\n",
       "    <tr>\n",
       "      <th>4</th>\n",
       "      <td>OK</td>\n",
       "      <td>75</td>\n",
       "      <td>415</td>\n",
       "      <td>330-6626</td>\n",
       "      <td>yes</td>\n",
       "      <td>no</td>\n",
       "      <td>0</td>\n",
       "      <td>166.7</td>\n",
       "      <td>113</td>\n",
       "      <td>28.34</td>\n",
       "      <td>...</td>\n",
       "      <td>122</td>\n",
       "      <td>12.61</td>\n",
       "      <td>186.9</td>\n",
       "      <td>121</td>\n",
       "      <td>8.41</td>\n",
       "      <td>10.1</td>\n",
       "      <td>3</td>\n",
       "      <td>2.73</td>\n",
       "      <td>3</td>\n",
       "      <td>False</td>\n",
       "    </tr>\n",
       "  </tbody>\n",
       "</table>\n",
       "<p>5 rows × 21 columns</p>\n",
       "</div>"
      ],
      "text/plain": [
       "  state  account length  area code phone number international plan  \\\n",
       "0    KS             128        415     382-4657                 no   \n",
       "1    OH             107        415     371-7191                 no   \n",
       "2    NJ             137        415     358-1921                 no   \n",
       "3    OH              84        408     375-9999                yes   \n",
       "4    OK              75        415     330-6626                yes   \n",
       "\n",
       "  voice mail plan  number vmail messages  total day minutes  total day calls  \\\n",
       "0             yes                     25              265.1              110   \n",
       "1             yes                     26              161.6              123   \n",
       "2              no                      0              243.4              114   \n",
       "3              no                      0              299.4               71   \n",
       "4              no                      0              166.7              113   \n",
       "\n",
       "   total day charge  ...  total eve calls  total eve charge  \\\n",
       "0             45.07  ...               99             16.78   \n",
       "1             27.47  ...              103             16.62   \n",
       "2             41.38  ...              110             10.30   \n",
       "3             50.90  ...               88              5.26   \n",
       "4             28.34  ...              122             12.61   \n",
       "\n",
       "   total night minutes  total night calls  total night charge  \\\n",
       "0                244.7                 91               11.01   \n",
       "1                254.4                103               11.45   \n",
       "2                162.6                104                7.32   \n",
       "3                196.9                 89                8.86   \n",
       "4                186.9                121                8.41   \n",
       "\n",
       "   total intl minutes  total intl calls  total intl charge  \\\n",
       "0                10.0                 3               2.70   \n",
       "1                13.7                 3               3.70   \n",
       "2                12.2                 5               3.29   \n",
       "3                 6.6                 7               1.78   \n",
       "4                10.1                 3               2.73   \n",
       "\n",
       "   customer service calls  churn  \n",
       "0                       1  False  \n",
       "1                       1  False  \n",
       "2                       0  False  \n",
       "3                       2  False  \n",
       "4                       3  False  \n",
       "\n",
       "[5 rows x 21 columns]"
      ]
     },
     "execution_count": 4,
     "metadata": {},
     "output_type": "execute_result"
    }
   ],
   "source": [
    "df.head()"
   ]
  },
  {
   "cell_type": "code",
   "execution_count": 5,
   "id": "a7ab9f95",
   "metadata": {},
   "outputs": [
    {
     "name": "stdout",
     "output_type": "stream",
     "text": [
      "<class 'pandas.core.frame.DataFrame'>\n",
      "RangeIndex: 3333 entries, 0 to 3332\n",
      "Data columns (total 21 columns):\n",
      " #   Column                  Non-Null Count  Dtype  \n",
      "---  ------                  --------------  -----  \n",
      " 0   state                   3333 non-null   object \n",
      " 1   account length          3333 non-null   int64  \n",
      " 2   area code               3333 non-null   int64  \n",
      " 3   phone number            3333 non-null   object \n",
      " 4   international plan      3333 non-null   object \n",
      " 5   voice mail plan         3333 non-null   object \n",
      " 6   number vmail messages   3333 non-null   int64  \n",
      " 7   total day minutes       3333 non-null   float64\n",
      " 8   total day calls         3333 non-null   int64  \n",
      " 9   total day charge        3333 non-null   float64\n",
      " 10  total eve minutes       3333 non-null   float64\n",
      " 11  total eve calls         3333 non-null   int64  \n",
      " 12  total eve charge        3333 non-null   float64\n",
      " 13  total night minutes     3333 non-null   float64\n",
      " 14  total night calls       3333 non-null   int64  \n",
      " 15  total night charge      3333 non-null   float64\n",
      " 16  total intl minutes      3333 non-null   float64\n",
      " 17  total intl calls        3333 non-null   int64  \n",
      " 18  total intl charge       3333 non-null   float64\n",
      " 19  customer service calls  3333 non-null   int64  \n",
      " 20  churn                   3333 non-null   bool   \n",
      "dtypes: bool(1), float64(8), int64(8), object(4)\n",
      "memory usage: 524.2+ KB\n"
     ]
    }
   ],
   "source": [
    "df.info()"
   ]
  },
  {
   "cell_type": "code",
   "execution_count": 6,
   "id": "11085bd3",
   "metadata": {},
   "outputs": [
    {
     "name": "stderr",
     "output_type": "stream",
     "text": [
      "C:\\Users\\ASUS\\AppData\\Local\\Temp\\ipykernel_9120\\2970767238.py:2: DeprecationWarning: `import pandas_profiling` is going to be deprecated by April 1st. Please use `import ydata_profiling` instead.\n",
      "  from pandas_profiling import ProfileReport\n"
     ]
    },
    {
     "data": {
      "application/vnd.jupyter.widget-view+json": {
       "model_id": "329534d1bbfb459e95614f3e5694df17",
       "version_major": 2,
       "version_minor": 0
      },
      "text/plain": [
       "Summarize dataset:   0%|          | 0/5 [00:00<?, ?it/s]"
      ]
     },
     "metadata": {},
     "output_type": "display_data"
    },
    {
     "data": {
      "application/vnd.jupyter.widget-view+json": {
       "model_id": "67086a9e782d4a948238e441b3c1608c",
       "version_major": 2,
       "version_minor": 0
      },
      "text/plain": [
       "Generate report structure:   0%|          | 0/1 [00:00<?, ?it/s]"
      ]
     },
     "metadata": {},
     "output_type": "display_data"
    },
    {
     "data": {
      "application/vnd.jupyter.widget-view+json": {
       "model_id": "ba172fd374e248fcb507482dbf995f8c",
       "version_major": 2,
       "version_minor": 0
      },
      "text/plain": [
       "Render HTML:   0%|          | 0/1 [00:00<?, ?it/s]"
      ]
     },
     "metadata": {},
     "output_type": "display_data"
    },
    {
     "data": {
      "application/vnd.jupyter.widget-view+json": {
       "model_id": "662042b6012c464eb978ad9b3dd14532",
       "version_major": 2,
       "version_minor": 0
      },
      "text/plain": [
       "Export report to file:   0%|          | 0/1 [00:00<?, ?it/s]"
      ]
     },
     "metadata": {},
     "output_type": "display_data"
    }
   ],
   "source": [
    "#report of dataset\n",
    "from pandas_profiling import ProfileReport\n",
    "profile=ProfileReport(df)\n",
    "profile.to_file(output_file=\"report.html\")"
   ]
  },
  {
   "cell_type": "code",
   "execution_count": 7,
   "id": "5d8cd1a1",
   "metadata": {},
   "outputs": [
    {
     "data": {
      "text/plain": [
       "0"
      ]
     },
     "execution_count": 7,
     "metadata": {},
     "output_type": "execute_result"
    }
   ],
   "source": [
    "df.duplicated().sum()"
   ]
  },
  {
   "cell_type": "code",
   "execution_count": 8,
   "id": "9ea98812",
   "metadata": {},
   "outputs": [
    {
     "data": {
      "text/plain": [
       "state                     0\n",
       "account length            0\n",
       "area code                 0\n",
       "phone number              0\n",
       "international plan        0\n",
       "voice mail plan           0\n",
       "number vmail messages     0\n",
       "total day minutes         0\n",
       "total day calls           0\n",
       "total day charge          0\n",
       "total eve minutes         0\n",
       "total eve calls           0\n",
       "total eve charge          0\n",
       "total night minutes       0\n",
       "total night calls         0\n",
       "total night charge        0\n",
       "total intl minutes        0\n",
       "total intl calls          0\n",
       "total intl charge         0\n",
       "customer service calls    0\n",
       "churn                     0\n",
       "dtype: int64"
      ]
     },
     "execution_count": 8,
     "metadata": {},
     "output_type": "execute_result"
    }
   ],
   "source": [
    "df.isnull().sum()\n",
    "#no null or missing value"
   ]
  },
  {
   "cell_type": "code",
   "execution_count": 9,
   "id": "f15e64f2",
   "metadata": {},
   "outputs": [
    {
     "data": {
      "text/html": [
       "<div>\n",
       "<style scoped>\n",
       "    .dataframe tbody tr th:only-of-type {\n",
       "        vertical-align: middle;\n",
       "    }\n",
       "\n",
       "    .dataframe tbody tr th {\n",
       "        vertical-align: top;\n",
       "    }\n",
       "\n",
       "    .dataframe thead th {\n",
       "        text-align: right;\n",
       "    }\n",
       "</style>\n",
       "<table border=\"1\" class=\"dataframe\">\n",
       "  <thead>\n",
       "    <tr style=\"text-align: right;\">\n",
       "      <th></th>\n",
       "      <th>state</th>\n",
       "      <th>account length</th>\n",
       "      <th>area code</th>\n",
       "      <th>international plan</th>\n",
       "      <th>voice mail plan</th>\n",
       "      <th>number vmail messages</th>\n",
       "      <th>total day minutes</th>\n",
       "      <th>total day calls</th>\n",
       "      <th>total day charge</th>\n",
       "      <th>total eve minutes</th>\n",
       "      <th>total eve calls</th>\n",
       "      <th>total eve charge</th>\n",
       "      <th>total night minutes</th>\n",
       "      <th>total night calls</th>\n",
       "      <th>total night charge</th>\n",
       "      <th>total intl minutes</th>\n",
       "      <th>total intl calls</th>\n",
       "      <th>total intl charge</th>\n",
       "      <th>customer service calls</th>\n",
       "      <th>churn</th>\n",
       "    </tr>\n",
       "  </thead>\n",
       "  <tbody>\n",
       "    <tr>\n",
       "      <th>0</th>\n",
       "      <td>KS</td>\n",
       "      <td>128</td>\n",
       "      <td>415</td>\n",
       "      <td>no</td>\n",
       "      <td>yes</td>\n",
       "      <td>25</td>\n",
       "      <td>265.1</td>\n",
       "      <td>110</td>\n",
       "      <td>45.07</td>\n",
       "      <td>197.4</td>\n",
       "      <td>99</td>\n",
       "      <td>16.78</td>\n",
       "      <td>244.7</td>\n",
       "      <td>91</td>\n",
       "      <td>11.01</td>\n",
       "      <td>10.0</td>\n",
       "      <td>3</td>\n",
       "      <td>2.70</td>\n",
       "      <td>1</td>\n",
       "      <td>False</td>\n",
       "    </tr>\n",
       "    <tr>\n",
       "      <th>1</th>\n",
       "      <td>OH</td>\n",
       "      <td>107</td>\n",
       "      <td>415</td>\n",
       "      <td>no</td>\n",
       "      <td>yes</td>\n",
       "      <td>26</td>\n",
       "      <td>161.6</td>\n",
       "      <td>123</td>\n",
       "      <td>27.47</td>\n",
       "      <td>195.5</td>\n",
       "      <td>103</td>\n",
       "      <td>16.62</td>\n",
       "      <td>254.4</td>\n",
       "      <td>103</td>\n",
       "      <td>11.45</td>\n",
       "      <td>13.7</td>\n",
       "      <td>3</td>\n",
       "      <td>3.70</td>\n",
       "      <td>1</td>\n",
       "      <td>False</td>\n",
       "    </tr>\n",
       "    <tr>\n",
       "      <th>2</th>\n",
       "      <td>NJ</td>\n",
       "      <td>137</td>\n",
       "      <td>415</td>\n",
       "      <td>no</td>\n",
       "      <td>no</td>\n",
       "      <td>0</td>\n",
       "      <td>243.4</td>\n",
       "      <td>114</td>\n",
       "      <td>41.38</td>\n",
       "      <td>121.2</td>\n",
       "      <td>110</td>\n",
       "      <td>10.30</td>\n",
       "      <td>162.6</td>\n",
       "      <td>104</td>\n",
       "      <td>7.32</td>\n",
       "      <td>12.2</td>\n",
       "      <td>5</td>\n",
       "      <td>3.29</td>\n",
       "      <td>0</td>\n",
       "      <td>False</td>\n",
       "    </tr>\n",
       "    <tr>\n",
       "      <th>3</th>\n",
       "      <td>OH</td>\n",
       "      <td>84</td>\n",
       "      <td>408</td>\n",
       "      <td>yes</td>\n",
       "      <td>no</td>\n",
       "      <td>0</td>\n",
       "      <td>299.4</td>\n",
       "      <td>71</td>\n",
       "      <td>50.90</td>\n",
       "      <td>61.9</td>\n",
       "      <td>88</td>\n",
       "      <td>5.26</td>\n",
       "      <td>196.9</td>\n",
       "      <td>89</td>\n",
       "      <td>8.86</td>\n",
       "      <td>6.6</td>\n",
       "      <td>7</td>\n",
       "      <td>1.78</td>\n",
       "      <td>2</td>\n",
       "      <td>False</td>\n",
       "    </tr>\n",
       "    <tr>\n",
       "      <th>4</th>\n",
       "      <td>OK</td>\n",
       "      <td>75</td>\n",
       "      <td>415</td>\n",
       "      <td>yes</td>\n",
       "      <td>no</td>\n",
       "      <td>0</td>\n",
       "      <td>166.7</td>\n",
       "      <td>113</td>\n",
       "      <td>28.34</td>\n",
       "      <td>148.3</td>\n",
       "      <td>122</td>\n",
       "      <td>12.61</td>\n",
       "      <td>186.9</td>\n",
       "      <td>121</td>\n",
       "      <td>8.41</td>\n",
       "      <td>10.1</td>\n",
       "      <td>3</td>\n",
       "      <td>2.73</td>\n",
       "      <td>3</td>\n",
       "      <td>False</td>\n",
       "    </tr>\n",
       "  </tbody>\n",
       "</table>\n",
       "</div>"
      ],
      "text/plain": [
       "  state  account length  area code international plan voice mail plan  \\\n",
       "0    KS             128        415                 no             yes   \n",
       "1    OH             107        415                 no             yes   \n",
       "2    NJ             137        415                 no              no   \n",
       "3    OH              84        408                yes              no   \n",
       "4    OK              75        415                yes              no   \n",
       "\n",
       "   number vmail messages  total day minutes  total day calls  \\\n",
       "0                     25              265.1              110   \n",
       "1                     26              161.6              123   \n",
       "2                      0              243.4              114   \n",
       "3                      0              299.4               71   \n",
       "4                      0              166.7              113   \n",
       "\n",
       "   total day charge  total eve minutes  total eve calls  total eve charge  \\\n",
       "0             45.07              197.4               99             16.78   \n",
       "1             27.47              195.5              103             16.62   \n",
       "2             41.38              121.2              110             10.30   \n",
       "3             50.90               61.9               88              5.26   \n",
       "4             28.34              148.3              122             12.61   \n",
       "\n",
       "   total night minutes  total night calls  total night charge  \\\n",
       "0                244.7                 91               11.01   \n",
       "1                254.4                103               11.45   \n",
       "2                162.6                104                7.32   \n",
       "3                196.9                 89                8.86   \n",
       "4                186.9                121                8.41   \n",
       "\n",
       "   total intl minutes  total intl calls  total intl charge  \\\n",
       "0                10.0                 3               2.70   \n",
       "1                13.7                 3               3.70   \n",
       "2                12.2                 5               3.29   \n",
       "3                 6.6                 7               1.78   \n",
       "4                10.1                 3               2.73   \n",
       "\n",
       "   customer service calls  churn  \n",
       "0                       1  False  \n",
       "1                       1  False  \n",
       "2                       0  False  \n",
       "3                       2  False  \n",
       "4                       3  False  "
      ]
     },
     "execution_count": 9,
     "metadata": {},
     "output_type": "execute_result"
    }
   ],
   "source": [
    "df.drop(['phone number'],axis=1,inplace=True)\n",
    "df.head()"
   ]
  },
  {
   "cell_type": "markdown",
   "id": "d14ac2ab",
   "metadata": {},
   "source": [
    "# 1. Write a function to handle missing values in the dataset. Discuss different strategies for handling missing data and their implications."
   ]
  },
  {
   "cell_type": "code",
   "execution_count": 10,
   "id": "9459ec69",
   "metadata": {},
   "outputs": [
    {
     "name": "stdout",
     "output_type": "stream",
     "text": [
      "No missing values found in the dataset.\n"
     ]
    },
    {
     "data": {
      "text/html": [
       "<div>\n",
       "<style scoped>\n",
       "    .dataframe tbody tr th:only-of-type {\n",
       "        vertical-align: middle;\n",
       "    }\n",
       "\n",
       "    .dataframe tbody tr th {\n",
       "        vertical-align: top;\n",
       "    }\n",
       "\n",
       "    .dataframe thead th {\n",
       "        text-align: right;\n",
       "    }\n",
       "</style>\n",
       "<table border=\"1\" class=\"dataframe\">\n",
       "  <thead>\n",
       "    <tr style=\"text-align: right;\">\n",
       "      <th></th>\n",
       "      <th>state</th>\n",
       "      <th>account length</th>\n",
       "      <th>area code</th>\n",
       "      <th>international plan</th>\n",
       "      <th>voice mail plan</th>\n",
       "      <th>number vmail messages</th>\n",
       "      <th>total day minutes</th>\n",
       "      <th>total day calls</th>\n",
       "      <th>total day charge</th>\n",
       "      <th>total eve minutes</th>\n",
       "      <th>total eve calls</th>\n",
       "      <th>total eve charge</th>\n",
       "      <th>total night minutes</th>\n",
       "      <th>total night calls</th>\n",
       "      <th>total night charge</th>\n",
       "      <th>total intl minutes</th>\n",
       "      <th>total intl calls</th>\n",
       "      <th>total intl charge</th>\n",
       "      <th>customer service calls</th>\n",
       "      <th>churn</th>\n",
       "    </tr>\n",
       "  </thead>\n",
       "  <tbody>\n",
       "    <tr>\n",
       "      <th>0</th>\n",
       "      <td>KS</td>\n",
       "      <td>128</td>\n",
       "      <td>415</td>\n",
       "      <td>no</td>\n",
       "      <td>yes</td>\n",
       "      <td>25</td>\n",
       "      <td>265.1</td>\n",
       "      <td>110</td>\n",
       "      <td>45.07</td>\n",
       "      <td>197.4</td>\n",
       "      <td>99</td>\n",
       "      <td>16.78</td>\n",
       "      <td>244.7</td>\n",
       "      <td>91</td>\n",
       "      <td>11.01</td>\n",
       "      <td>10.0</td>\n",
       "      <td>3</td>\n",
       "      <td>2.70</td>\n",
       "      <td>1</td>\n",
       "      <td>False</td>\n",
       "    </tr>\n",
       "    <tr>\n",
       "      <th>1</th>\n",
       "      <td>OH</td>\n",
       "      <td>107</td>\n",
       "      <td>415</td>\n",
       "      <td>no</td>\n",
       "      <td>yes</td>\n",
       "      <td>26</td>\n",
       "      <td>161.6</td>\n",
       "      <td>123</td>\n",
       "      <td>27.47</td>\n",
       "      <td>195.5</td>\n",
       "      <td>103</td>\n",
       "      <td>16.62</td>\n",
       "      <td>254.4</td>\n",
       "      <td>103</td>\n",
       "      <td>11.45</td>\n",
       "      <td>13.7</td>\n",
       "      <td>3</td>\n",
       "      <td>3.70</td>\n",
       "      <td>1</td>\n",
       "      <td>False</td>\n",
       "    </tr>\n",
       "    <tr>\n",
       "      <th>2</th>\n",
       "      <td>NJ</td>\n",
       "      <td>137</td>\n",
       "      <td>415</td>\n",
       "      <td>no</td>\n",
       "      <td>no</td>\n",
       "      <td>0</td>\n",
       "      <td>243.4</td>\n",
       "      <td>114</td>\n",
       "      <td>41.38</td>\n",
       "      <td>121.2</td>\n",
       "      <td>110</td>\n",
       "      <td>10.30</td>\n",
       "      <td>162.6</td>\n",
       "      <td>104</td>\n",
       "      <td>7.32</td>\n",
       "      <td>12.2</td>\n",
       "      <td>5</td>\n",
       "      <td>3.29</td>\n",
       "      <td>0</td>\n",
       "      <td>False</td>\n",
       "    </tr>\n",
       "    <tr>\n",
       "      <th>3</th>\n",
       "      <td>OH</td>\n",
       "      <td>84</td>\n",
       "      <td>408</td>\n",
       "      <td>yes</td>\n",
       "      <td>no</td>\n",
       "      <td>0</td>\n",
       "      <td>299.4</td>\n",
       "      <td>71</td>\n",
       "      <td>50.90</td>\n",
       "      <td>61.9</td>\n",
       "      <td>88</td>\n",
       "      <td>5.26</td>\n",
       "      <td>196.9</td>\n",
       "      <td>89</td>\n",
       "      <td>8.86</td>\n",
       "      <td>6.6</td>\n",
       "      <td>7</td>\n",
       "      <td>1.78</td>\n",
       "      <td>2</td>\n",
       "      <td>False</td>\n",
       "    </tr>\n",
       "    <tr>\n",
       "      <th>4</th>\n",
       "      <td>OK</td>\n",
       "      <td>75</td>\n",
       "      <td>415</td>\n",
       "      <td>yes</td>\n",
       "      <td>no</td>\n",
       "      <td>0</td>\n",
       "      <td>166.7</td>\n",
       "      <td>113</td>\n",
       "      <td>28.34</td>\n",
       "      <td>148.3</td>\n",
       "      <td>122</td>\n",
       "      <td>12.61</td>\n",
       "      <td>186.9</td>\n",
       "      <td>121</td>\n",
       "      <td>8.41</td>\n",
       "      <td>10.1</td>\n",
       "      <td>3</td>\n",
       "      <td>2.73</td>\n",
       "      <td>3</td>\n",
       "      <td>False</td>\n",
       "    </tr>\n",
       "    <tr>\n",
       "      <th>...</th>\n",
       "      <td>...</td>\n",
       "      <td>...</td>\n",
       "      <td>...</td>\n",
       "      <td>...</td>\n",
       "      <td>...</td>\n",
       "      <td>...</td>\n",
       "      <td>...</td>\n",
       "      <td>...</td>\n",
       "      <td>...</td>\n",
       "      <td>...</td>\n",
       "      <td>...</td>\n",
       "      <td>...</td>\n",
       "      <td>...</td>\n",
       "      <td>...</td>\n",
       "      <td>...</td>\n",
       "      <td>...</td>\n",
       "      <td>...</td>\n",
       "      <td>...</td>\n",
       "      <td>...</td>\n",
       "      <td>...</td>\n",
       "    </tr>\n",
       "    <tr>\n",
       "      <th>3328</th>\n",
       "      <td>AZ</td>\n",
       "      <td>192</td>\n",
       "      <td>415</td>\n",
       "      <td>no</td>\n",
       "      <td>yes</td>\n",
       "      <td>36</td>\n",
       "      <td>156.2</td>\n",
       "      <td>77</td>\n",
       "      <td>26.55</td>\n",
       "      <td>215.5</td>\n",
       "      <td>126</td>\n",
       "      <td>18.32</td>\n",
       "      <td>279.1</td>\n",
       "      <td>83</td>\n",
       "      <td>12.56</td>\n",
       "      <td>9.9</td>\n",
       "      <td>6</td>\n",
       "      <td>2.67</td>\n",
       "      <td>2</td>\n",
       "      <td>False</td>\n",
       "    </tr>\n",
       "    <tr>\n",
       "      <th>3329</th>\n",
       "      <td>WV</td>\n",
       "      <td>68</td>\n",
       "      <td>415</td>\n",
       "      <td>no</td>\n",
       "      <td>no</td>\n",
       "      <td>0</td>\n",
       "      <td>231.1</td>\n",
       "      <td>57</td>\n",
       "      <td>39.29</td>\n",
       "      <td>153.4</td>\n",
       "      <td>55</td>\n",
       "      <td>13.04</td>\n",
       "      <td>191.3</td>\n",
       "      <td>123</td>\n",
       "      <td>8.61</td>\n",
       "      <td>9.6</td>\n",
       "      <td>4</td>\n",
       "      <td>2.59</td>\n",
       "      <td>3</td>\n",
       "      <td>False</td>\n",
       "    </tr>\n",
       "    <tr>\n",
       "      <th>3330</th>\n",
       "      <td>RI</td>\n",
       "      <td>28</td>\n",
       "      <td>510</td>\n",
       "      <td>no</td>\n",
       "      <td>no</td>\n",
       "      <td>0</td>\n",
       "      <td>180.8</td>\n",
       "      <td>109</td>\n",
       "      <td>30.74</td>\n",
       "      <td>288.8</td>\n",
       "      <td>58</td>\n",
       "      <td>24.55</td>\n",
       "      <td>191.9</td>\n",
       "      <td>91</td>\n",
       "      <td>8.64</td>\n",
       "      <td>14.1</td>\n",
       "      <td>6</td>\n",
       "      <td>3.81</td>\n",
       "      <td>2</td>\n",
       "      <td>False</td>\n",
       "    </tr>\n",
       "    <tr>\n",
       "      <th>3331</th>\n",
       "      <td>CT</td>\n",
       "      <td>184</td>\n",
       "      <td>510</td>\n",
       "      <td>yes</td>\n",
       "      <td>no</td>\n",
       "      <td>0</td>\n",
       "      <td>213.8</td>\n",
       "      <td>105</td>\n",
       "      <td>36.35</td>\n",
       "      <td>159.6</td>\n",
       "      <td>84</td>\n",
       "      <td>13.57</td>\n",
       "      <td>139.2</td>\n",
       "      <td>137</td>\n",
       "      <td>6.26</td>\n",
       "      <td>5.0</td>\n",
       "      <td>10</td>\n",
       "      <td>1.35</td>\n",
       "      <td>2</td>\n",
       "      <td>False</td>\n",
       "    </tr>\n",
       "    <tr>\n",
       "      <th>3332</th>\n",
       "      <td>TN</td>\n",
       "      <td>74</td>\n",
       "      <td>415</td>\n",
       "      <td>no</td>\n",
       "      <td>yes</td>\n",
       "      <td>25</td>\n",
       "      <td>234.4</td>\n",
       "      <td>113</td>\n",
       "      <td>39.85</td>\n",
       "      <td>265.9</td>\n",
       "      <td>82</td>\n",
       "      <td>22.60</td>\n",
       "      <td>241.4</td>\n",
       "      <td>77</td>\n",
       "      <td>10.86</td>\n",
       "      <td>13.7</td>\n",
       "      <td>4</td>\n",
       "      <td>3.70</td>\n",
       "      <td>0</td>\n",
       "      <td>False</td>\n",
       "    </tr>\n",
       "  </tbody>\n",
       "</table>\n",
       "<p>3333 rows × 20 columns</p>\n",
       "</div>"
      ],
      "text/plain": [
       "     state  account length  area code international plan voice mail plan  \\\n",
       "0       KS             128        415                 no             yes   \n",
       "1       OH             107        415                 no             yes   \n",
       "2       NJ             137        415                 no              no   \n",
       "3       OH              84        408                yes              no   \n",
       "4       OK              75        415                yes              no   \n",
       "...    ...             ...        ...                ...             ...   \n",
       "3328    AZ             192        415                 no             yes   \n",
       "3329    WV              68        415                 no              no   \n",
       "3330    RI              28        510                 no              no   \n",
       "3331    CT             184        510                yes              no   \n",
       "3332    TN              74        415                 no             yes   \n",
       "\n",
       "      number vmail messages  total day minutes  total day calls  \\\n",
       "0                        25              265.1              110   \n",
       "1                        26              161.6              123   \n",
       "2                         0              243.4              114   \n",
       "3                         0              299.4               71   \n",
       "4                         0              166.7              113   \n",
       "...                     ...                ...              ...   \n",
       "3328                     36              156.2               77   \n",
       "3329                      0              231.1               57   \n",
       "3330                      0              180.8              109   \n",
       "3331                      0              213.8              105   \n",
       "3332                     25              234.4              113   \n",
       "\n",
       "      total day charge  total eve minutes  total eve calls  total eve charge  \\\n",
       "0                45.07              197.4               99             16.78   \n",
       "1                27.47              195.5              103             16.62   \n",
       "2                41.38              121.2              110             10.30   \n",
       "3                50.90               61.9               88              5.26   \n",
       "4                28.34              148.3              122             12.61   \n",
       "...                ...                ...              ...               ...   \n",
       "3328             26.55              215.5              126             18.32   \n",
       "3329             39.29              153.4               55             13.04   \n",
       "3330             30.74              288.8               58             24.55   \n",
       "3331             36.35              159.6               84             13.57   \n",
       "3332             39.85              265.9               82             22.60   \n",
       "\n",
       "      total night minutes  total night calls  total night charge  \\\n",
       "0                   244.7                 91               11.01   \n",
       "1                   254.4                103               11.45   \n",
       "2                   162.6                104                7.32   \n",
       "3                   196.9                 89                8.86   \n",
       "4                   186.9                121                8.41   \n",
       "...                   ...                ...                 ...   \n",
       "3328                279.1                 83               12.56   \n",
       "3329                191.3                123                8.61   \n",
       "3330                191.9                 91                8.64   \n",
       "3331                139.2                137                6.26   \n",
       "3332                241.4                 77               10.86   \n",
       "\n",
       "      total intl minutes  total intl calls  total intl charge  \\\n",
       "0                   10.0                 3               2.70   \n",
       "1                   13.7                 3               3.70   \n",
       "2                   12.2                 5               3.29   \n",
       "3                    6.6                 7               1.78   \n",
       "4                   10.1                 3               2.73   \n",
       "...                  ...               ...                ...   \n",
       "3328                 9.9                 6               2.67   \n",
       "3329                 9.6                 4               2.59   \n",
       "3330                14.1                 6               3.81   \n",
       "3331                 5.0                10               1.35   \n",
       "3332                13.7                 4               3.70   \n",
       "\n",
       "      customer service calls  churn  \n",
       "0                          1  False  \n",
       "1                          1  False  \n",
       "2                          0  False  \n",
       "3                          2  False  \n",
       "4                          3  False  \n",
       "...                      ...    ...  \n",
       "3328                       2  False  \n",
       "3329                       3  False  \n",
       "3330                       2  False  \n",
       "3331                       2  False  \n",
       "3332                       0  False  \n",
       "\n",
       "[3333 rows x 20 columns]"
      ]
     },
     "execution_count": 10,
     "metadata": {},
     "output_type": "execute_result"
    }
   ],
   "source": [
    "def handle_missing_values(data):\n",
    "    # Check for missing values\n",
    "    if data.isnull().sum().sum() == 0:\n",
    "        print(\"No missing values found in the dataset.\")\n",
    "    \n",
    "    # Identify columns with missing values\n",
    "    columns_with_missing_values = data.columns[data.isnull().any()].tolist()\n",
    "    \n",
    "    # Handle missing values\n",
    "    for column in columns_with_missing_values:\n",
    "        if data[column].dtype == 'object':\n",
    "            # For categorical columns, fill missing values with the mode\n",
    "            data[column].fillna(data[column].mode().iloc[0], inplace=True)\n",
    "        else:\n",
    "            # For numerical columns, fill missing values with the median\n",
    "            data[column].fillna(data[column].median(), inplace=True)\n",
    "    \n",
    "    # Check if any missing values are remaining\n",
    "    if data.isnull().sum().sum() > 0:\n",
    "        print(\"Some missing values could not be handled.\")\n",
    "    return data\n",
    "handle_missing_values(df)"
   ]
  },
  {
   "cell_type": "markdown",
   "id": "40ce1f16",
   "metadata": {},
   "source": [
    "Different strategies for handling missing data and their implications:"
   ]
  },
  {
   "cell_type": "markdown",
   "id": "71c90479",
   "metadata": {},
   "source": [
    "1. Rеmoval: This stratеgy involvеs rеmoving rows or columns that contain missing valuеs. It can bе еffеctivе whеn thе missing data is small and randomly distributеd. Howеvеr, rеmoving data can lеad to a loss of information, еspеcially if thе missing valuеs arе not randomly distributеd and can introducе bias into thе analysis.\n",
    ">dataset = dataset.dropna()\n",
    "\n",
    "2. Mеan/avеragе imputation: In this stratеgy, missing valuеs arе fillеd with thе mеan or avеragе valuе of thе rеspеctivе column. It is a simplе and commonly usеd mеthod that prеsеrvеs thе ovеrall mеan of thе data. Howеvеr, it may not bе appropriatе if thе missing valuеs arе not missing at random and can distort thе distribution and rеlationships in thе data.\n",
    ">dataset = dataset.fillna(dataset.mean())\n",
    "\n",
    "3. Mеdian imputation: Similar to mеan imputation, this stratеgy fills missing valuеs with thе mеdian of thе column. Mеdian imputation is usеful whеn thе data has outliеrs or a skеwеd distribution, as it is lеss affеctеd by еxtrеmе valuеs comparеd to thе mеan. Howеvеr, likе mеan imputation, it can distort thе data distribution and rеlationships if missing valuеs arе not missing at random.\n",
    ">dataset = dataset.fillna(dataset.median())\n",
    "\n",
    "4. Modе imputation: This stratеgy rеplacеs missing valuеs with thе modе, which is thе most frеquеntly occurring valuе in thе column. Modе imputation is commonly usеd for catеgorical variablеs. Howеvеr, it assumеs that missing valuеs occur randomly and may introducе bias if thе modе is ovеrrеprеsеntеd. \n",
    ">dataset = dataset.fillna(dataset.mode().iloc[0])"
   ]
  },
  {
   "cell_type": "markdown",
   "id": "8ce482a2",
   "metadata": {},
   "source": [
    "# 2. Implement feature encoding techniques (e.g., one-hot encoding, label encoding) for categorical variables in the churn telecom dataset."
   ]
  },
  {
   "cell_type": "markdown",
   "id": "8045164c",
   "metadata": {},
   "source": [
    "ONE-HOT ENCODING"
   ]
  },
  {
   "cell_type": "code",
   "execution_count": 11,
   "id": "f744eb98",
   "metadata": {},
   "outputs": [
    {
     "data": {
      "text/html": [
       "<div>\n",
       "<style scoped>\n",
       "    .dataframe tbody tr th:only-of-type {\n",
       "        vertical-align: middle;\n",
       "    }\n",
       "\n",
       "    .dataframe tbody tr th {\n",
       "        vertical-align: top;\n",
       "    }\n",
       "\n",
       "    .dataframe thead th {\n",
       "        text-align: right;\n",
       "    }\n",
       "</style>\n",
       "<table border=\"1\" class=\"dataframe\">\n",
       "  <thead>\n",
       "    <tr style=\"text-align: right;\">\n",
       "      <th></th>\n",
       "      <th>account length</th>\n",
       "      <th>number vmail messages</th>\n",
       "      <th>total day minutes</th>\n",
       "      <th>total day calls</th>\n",
       "      <th>total day charge</th>\n",
       "      <th>total eve minutes</th>\n",
       "      <th>total eve calls</th>\n",
       "      <th>total eve charge</th>\n",
       "      <th>total night minutes</th>\n",
       "      <th>total night calls</th>\n",
       "      <th>...</th>\n",
       "      <th>state_is_VT</th>\n",
       "      <th>state_is_WA</th>\n",
       "      <th>state_is_WI</th>\n",
       "      <th>state_is_WV</th>\n",
       "      <th>state_is_WY</th>\n",
       "      <th>area_code_is_408</th>\n",
       "      <th>area_code_is_415</th>\n",
       "      <th>area_code_is_510</th>\n",
       "      <th>international_plan_is_yes</th>\n",
       "      <th>voice_mail_plan_is_yes</th>\n",
       "    </tr>\n",
       "  </thead>\n",
       "  <tbody>\n",
       "    <tr>\n",
       "      <th>0</th>\n",
       "      <td>128</td>\n",
       "      <td>25</td>\n",
       "      <td>265.1</td>\n",
       "      <td>110</td>\n",
       "      <td>45.07</td>\n",
       "      <td>197.4</td>\n",
       "      <td>99</td>\n",
       "      <td>16.78</td>\n",
       "      <td>244.7</td>\n",
       "      <td>91</td>\n",
       "      <td>...</td>\n",
       "      <td>0</td>\n",
       "      <td>0</td>\n",
       "      <td>0</td>\n",
       "      <td>0</td>\n",
       "      <td>0</td>\n",
       "      <td>0</td>\n",
       "      <td>1</td>\n",
       "      <td>0</td>\n",
       "      <td>0</td>\n",
       "      <td>1</td>\n",
       "    </tr>\n",
       "    <tr>\n",
       "      <th>1</th>\n",
       "      <td>107</td>\n",
       "      <td>26</td>\n",
       "      <td>161.6</td>\n",
       "      <td>123</td>\n",
       "      <td>27.47</td>\n",
       "      <td>195.5</td>\n",
       "      <td>103</td>\n",
       "      <td>16.62</td>\n",
       "      <td>254.4</td>\n",
       "      <td>103</td>\n",
       "      <td>...</td>\n",
       "      <td>0</td>\n",
       "      <td>0</td>\n",
       "      <td>0</td>\n",
       "      <td>0</td>\n",
       "      <td>0</td>\n",
       "      <td>0</td>\n",
       "      <td>1</td>\n",
       "      <td>0</td>\n",
       "      <td>0</td>\n",
       "      <td>1</td>\n",
       "    </tr>\n",
       "    <tr>\n",
       "      <th>2</th>\n",
       "      <td>137</td>\n",
       "      <td>0</td>\n",
       "      <td>243.4</td>\n",
       "      <td>114</td>\n",
       "      <td>41.38</td>\n",
       "      <td>121.2</td>\n",
       "      <td>110</td>\n",
       "      <td>10.30</td>\n",
       "      <td>162.6</td>\n",
       "      <td>104</td>\n",
       "      <td>...</td>\n",
       "      <td>0</td>\n",
       "      <td>0</td>\n",
       "      <td>0</td>\n",
       "      <td>0</td>\n",
       "      <td>0</td>\n",
       "      <td>0</td>\n",
       "      <td>1</td>\n",
       "      <td>0</td>\n",
       "      <td>0</td>\n",
       "      <td>0</td>\n",
       "    </tr>\n",
       "    <tr>\n",
       "      <th>3</th>\n",
       "      <td>84</td>\n",
       "      <td>0</td>\n",
       "      <td>299.4</td>\n",
       "      <td>71</td>\n",
       "      <td>50.90</td>\n",
       "      <td>61.9</td>\n",
       "      <td>88</td>\n",
       "      <td>5.26</td>\n",
       "      <td>196.9</td>\n",
       "      <td>89</td>\n",
       "      <td>...</td>\n",
       "      <td>0</td>\n",
       "      <td>0</td>\n",
       "      <td>0</td>\n",
       "      <td>0</td>\n",
       "      <td>0</td>\n",
       "      <td>1</td>\n",
       "      <td>0</td>\n",
       "      <td>0</td>\n",
       "      <td>1</td>\n",
       "      <td>0</td>\n",
       "    </tr>\n",
       "    <tr>\n",
       "      <th>4</th>\n",
       "      <td>75</td>\n",
       "      <td>0</td>\n",
       "      <td>166.7</td>\n",
       "      <td>113</td>\n",
       "      <td>28.34</td>\n",
       "      <td>148.3</td>\n",
       "      <td>122</td>\n",
       "      <td>12.61</td>\n",
       "      <td>186.9</td>\n",
       "      <td>121</td>\n",
       "      <td>...</td>\n",
       "      <td>0</td>\n",
       "      <td>0</td>\n",
       "      <td>0</td>\n",
       "      <td>0</td>\n",
       "      <td>0</td>\n",
       "      <td>0</td>\n",
       "      <td>1</td>\n",
       "      <td>0</td>\n",
       "      <td>1</td>\n",
       "      <td>0</td>\n",
       "    </tr>\n",
       "  </tbody>\n",
       "</table>\n",
       "<p>5 rows × 72 columns</p>\n",
       "</div>"
      ],
      "text/plain": [
       "   account length  number vmail messages  total day minutes  total day calls  \\\n",
       "0             128                     25              265.1              110   \n",
       "1             107                     26              161.6              123   \n",
       "2             137                      0              243.4              114   \n",
       "3              84                      0              299.4               71   \n",
       "4              75                      0              166.7              113   \n",
       "\n",
       "   total day charge  total eve minutes  total eve calls  total eve charge  \\\n",
       "0             45.07              197.4               99             16.78   \n",
       "1             27.47              195.5              103             16.62   \n",
       "2             41.38              121.2              110             10.30   \n",
       "3             50.90               61.9               88              5.26   \n",
       "4             28.34              148.3              122             12.61   \n",
       "\n",
       "   total night minutes  total night calls  ...  state_is_VT  state_is_WA  \\\n",
       "0                244.7                 91  ...            0            0   \n",
       "1                254.4                103  ...            0            0   \n",
       "2                162.6                104  ...            0            0   \n",
       "3                196.9                 89  ...            0            0   \n",
       "4                186.9                121  ...            0            0   \n",
       "\n",
       "   state_is_WI  state_is_WV  state_is_WY  area_code_is_408  area_code_is_415  \\\n",
       "0            0            0            0                 0                 1   \n",
       "1            0            0            0                 0                 1   \n",
       "2            0            0            0                 0                 1   \n",
       "3            0            0            0                 1                 0   \n",
       "4            0            0            0                 0                 1   \n",
       "\n",
       "   area_code_is_510  international_plan_is_yes  voice_mail_plan_is_yes  \n",
       "0                 0                          0                       1  \n",
       "1                 0                          0                       1  \n",
       "2                 0                          0                       0  \n",
       "3                 0                          1                       0  \n",
       "4                 0                          1                       0  \n",
       "\n",
       "[5 rows x 72 columns]"
      ]
     },
     "execution_count": 11,
     "metadata": {},
     "output_type": "execute_result"
    }
   ],
   "source": [
    "dummy_df_state = pd.get_dummies(df[\"state\"],dtype=np.int64,prefix=\"state_is\")\n",
    "dummy_df_area_code = pd.get_dummies(df[\"area code\"],dtype=np.int64,prefix=\"area_code_is\")\n",
    "dummy_df_international_plan = pd.get_dummies(df[\"international plan\"],dtype=np.int64,prefix=\"international_plan_is\",drop_first = True)\n",
    "dummy_df_voice_mail_plan = pd.get_dummies(df[\"voice mail plan\"],dtype=np.int64,prefix=\"voice_mail_plan_is\",drop_first = True)\n",
    "\n",
    "\n",
    "df = pd.concat([df,dummy_df_state,dummy_df_area_code,dummy_df_international_plan,dummy_df_voice_mail_plan],axis=1)\n",
    "df = df.loc[:,~df.columns.duplicated()]\n",
    "df = df.drop(['state','area code','international plan','voice mail plan'],axis=1)\n",
    "\n",
    "df.head()"
   ]
  },
  {
   "cell_type": "code",
   "execution_count": 12,
   "id": "3e1c75a8",
   "metadata": {},
   "outputs": [
    {
     "name": "stdout",
     "output_type": "stream",
     "text": [
      "<class 'pandas.core.frame.DataFrame'>\n",
      "RangeIndex: 3333 entries, 0 to 3332\n",
      "Data columns (total 72 columns):\n",
      " #   Column                     Non-Null Count  Dtype  \n",
      "---  ------                     --------------  -----  \n",
      " 0   account length             3333 non-null   int64  \n",
      " 1   number vmail messages      3333 non-null   int64  \n",
      " 2   total day minutes          3333 non-null   float64\n",
      " 3   total day calls            3333 non-null   int64  \n",
      " 4   total day charge           3333 non-null   float64\n",
      " 5   total eve minutes          3333 non-null   float64\n",
      " 6   total eve calls            3333 non-null   int64  \n",
      " 7   total eve charge           3333 non-null   float64\n",
      " 8   total night minutes        3333 non-null   float64\n",
      " 9   total night calls          3333 non-null   int64  \n",
      " 10  total night charge         3333 non-null   float64\n",
      " 11  total intl minutes         3333 non-null   float64\n",
      " 12  total intl calls           3333 non-null   int64  \n",
      " 13  total intl charge          3333 non-null   float64\n",
      " 14  customer service calls     3333 non-null   int64  \n",
      " 15  churn                      3333 non-null   bool   \n",
      " 16  state_is_AK                3333 non-null   int64  \n",
      " 17  state_is_AL                3333 non-null   int64  \n",
      " 18  state_is_AR                3333 non-null   int64  \n",
      " 19  state_is_AZ                3333 non-null   int64  \n",
      " 20  state_is_CA                3333 non-null   int64  \n",
      " 21  state_is_CO                3333 non-null   int64  \n",
      " 22  state_is_CT                3333 non-null   int64  \n",
      " 23  state_is_DC                3333 non-null   int64  \n",
      " 24  state_is_DE                3333 non-null   int64  \n",
      " 25  state_is_FL                3333 non-null   int64  \n",
      " 26  state_is_GA                3333 non-null   int64  \n",
      " 27  state_is_HI                3333 non-null   int64  \n",
      " 28  state_is_IA                3333 non-null   int64  \n",
      " 29  state_is_ID                3333 non-null   int64  \n",
      " 30  state_is_IL                3333 non-null   int64  \n",
      " 31  state_is_IN                3333 non-null   int64  \n",
      " 32  state_is_KS                3333 non-null   int64  \n",
      " 33  state_is_KY                3333 non-null   int64  \n",
      " 34  state_is_LA                3333 non-null   int64  \n",
      " 35  state_is_MA                3333 non-null   int64  \n",
      " 36  state_is_MD                3333 non-null   int64  \n",
      " 37  state_is_ME                3333 non-null   int64  \n",
      " 38  state_is_MI                3333 non-null   int64  \n",
      " 39  state_is_MN                3333 non-null   int64  \n",
      " 40  state_is_MO                3333 non-null   int64  \n",
      " 41  state_is_MS                3333 non-null   int64  \n",
      " 42  state_is_MT                3333 non-null   int64  \n",
      " 43  state_is_NC                3333 non-null   int64  \n",
      " 44  state_is_ND                3333 non-null   int64  \n",
      " 45  state_is_NE                3333 non-null   int64  \n",
      " 46  state_is_NH                3333 non-null   int64  \n",
      " 47  state_is_NJ                3333 non-null   int64  \n",
      " 48  state_is_NM                3333 non-null   int64  \n",
      " 49  state_is_NV                3333 non-null   int64  \n",
      " 50  state_is_NY                3333 non-null   int64  \n",
      " 51  state_is_OH                3333 non-null   int64  \n",
      " 52  state_is_OK                3333 non-null   int64  \n",
      " 53  state_is_OR                3333 non-null   int64  \n",
      " 54  state_is_PA                3333 non-null   int64  \n",
      " 55  state_is_RI                3333 non-null   int64  \n",
      " 56  state_is_SC                3333 non-null   int64  \n",
      " 57  state_is_SD                3333 non-null   int64  \n",
      " 58  state_is_TN                3333 non-null   int64  \n",
      " 59  state_is_TX                3333 non-null   int64  \n",
      " 60  state_is_UT                3333 non-null   int64  \n",
      " 61  state_is_VA                3333 non-null   int64  \n",
      " 62  state_is_VT                3333 non-null   int64  \n",
      " 63  state_is_WA                3333 non-null   int64  \n",
      " 64  state_is_WI                3333 non-null   int64  \n",
      " 65  state_is_WV                3333 non-null   int64  \n",
      " 66  state_is_WY                3333 non-null   int64  \n",
      " 67  area_code_is_408           3333 non-null   int64  \n",
      " 68  area_code_is_415           3333 non-null   int64  \n",
      " 69  area_code_is_510           3333 non-null   int64  \n",
      " 70  international_plan_is_yes  3333 non-null   int64  \n",
      " 71  voice_mail_plan_is_yes     3333 non-null   int64  \n",
      "dtypes: bool(1), float64(8), int64(63)\n",
      "memory usage: 1.8 MB\n"
     ]
    }
   ],
   "source": [
    "df.info()"
   ]
  },
  {
   "cell_type": "markdown",
   "id": "20832fb7",
   "metadata": {},
   "source": [
    "LABEL ENCODER"
   ]
  },
  {
   "cell_type": "code",
   "execution_count": 13,
   "id": "e617a9c3",
   "metadata": {},
   "outputs": [
    {
     "name": "stdout",
     "output_type": "stream",
     "text": [
      "Label Encoder Transformation\n",
      "churn  :  [0 1]  =  [False  True]\n"
     ]
    }
   ],
   "source": [
    "from sklearn.preprocessing import LabelEncoder\n",
    "le = LabelEncoder()\n",
    "\n",
    "df1 = df.copy(deep = True)\n",
    "text_df_features = [i for i in list(df.columns) if i not in list(df.describe().columns)]\n",
    "\n",
    "print('Label Encoder Transformation')\n",
    "for i in text_df_features :\n",
    "    df1[i] = le.fit_transform(df1[i])\n",
    "    print(i,' : ',df1[i].unique(),' = ',le.inverse_transform(df1[i].unique()))"
   ]
  },
  {
   "cell_type": "code",
   "execution_count": 14,
   "id": "b352d66d",
   "metadata": {},
   "outputs": [
    {
     "name": "stdout",
     "output_type": "stream",
     "text": [
      "<class 'pandas.core.frame.DataFrame'>\n",
      "RangeIndex: 3333 entries, 0 to 3332\n",
      "Data columns (total 72 columns):\n",
      " #   Column                     Non-Null Count  Dtype  \n",
      "---  ------                     --------------  -----  \n",
      " 0   account length             3333 non-null   int64  \n",
      " 1   number vmail messages      3333 non-null   int64  \n",
      " 2   total day minutes          3333 non-null   float64\n",
      " 3   total day calls            3333 non-null   int64  \n",
      " 4   total day charge           3333 non-null   float64\n",
      " 5   total eve minutes          3333 non-null   float64\n",
      " 6   total eve calls            3333 non-null   int64  \n",
      " 7   total eve charge           3333 non-null   float64\n",
      " 8   total night minutes        3333 non-null   float64\n",
      " 9   total night calls          3333 non-null   int64  \n",
      " 10  total night charge         3333 non-null   float64\n",
      " 11  total intl minutes         3333 non-null   float64\n",
      " 12  total intl calls           3333 non-null   int64  \n",
      " 13  total intl charge          3333 non-null   float64\n",
      " 14  customer service calls     3333 non-null   int64  \n",
      " 15  churn                      3333 non-null   int64  \n",
      " 16  state_is_AK                3333 non-null   int64  \n",
      " 17  state_is_AL                3333 non-null   int64  \n",
      " 18  state_is_AR                3333 non-null   int64  \n",
      " 19  state_is_AZ                3333 non-null   int64  \n",
      " 20  state_is_CA                3333 non-null   int64  \n",
      " 21  state_is_CO                3333 non-null   int64  \n",
      " 22  state_is_CT                3333 non-null   int64  \n",
      " 23  state_is_DC                3333 non-null   int64  \n",
      " 24  state_is_DE                3333 non-null   int64  \n",
      " 25  state_is_FL                3333 non-null   int64  \n",
      " 26  state_is_GA                3333 non-null   int64  \n",
      " 27  state_is_HI                3333 non-null   int64  \n",
      " 28  state_is_IA                3333 non-null   int64  \n",
      " 29  state_is_ID                3333 non-null   int64  \n",
      " 30  state_is_IL                3333 non-null   int64  \n",
      " 31  state_is_IN                3333 non-null   int64  \n",
      " 32  state_is_KS                3333 non-null   int64  \n",
      " 33  state_is_KY                3333 non-null   int64  \n",
      " 34  state_is_LA                3333 non-null   int64  \n",
      " 35  state_is_MA                3333 non-null   int64  \n",
      " 36  state_is_MD                3333 non-null   int64  \n",
      " 37  state_is_ME                3333 non-null   int64  \n",
      " 38  state_is_MI                3333 non-null   int64  \n",
      " 39  state_is_MN                3333 non-null   int64  \n",
      " 40  state_is_MO                3333 non-null   int64  \n",
      " 41  state_is_MS                3333 non-null   int64  \n",
      " 42  state_is_MT                3333 non-null   int64  \n",
      " 43  state_is_NC                3333 non-null   int64  \n",
      " 44  state_is_ND                3333 non-null   int64  \n",
      " 45  state_is_NE                3333 non-null   int64  \n",
      " 46  state_is_NH                3333 non-null   int64  \n",
      " 47  state_is_NJ                3333 non-null   int64  \n",
      " 48  state_is_NM                3333 non-null   int64  \n",
      " 49  state_is_NV                3333 non-null   int64  \n",
      " 50  state_is_NY                3333 non-null   int64  \n",
      " 51  state_is_OH                3333 non-null   int64  \n",
      " 52  state_is_OK                3333 non-null   int64  \n",
      " 53  state_is_OR                3333 non-null   int64  \n",
      " 54  state_is_PA                3333 non-null   int64  \n",
      " 55  state_is_RI                3333 non-null   int64  \n",
      " 56  state_is_SC                3333 non-null   int64  \n",
      " 57  state_is_SD                3333 non-null   int64  \n",
      " 58  state_is_TN                3333 non-null   int64  \n",
      " 59  state_is_TX                3333 non-null   int64  \n",
      " 60  state_is_UT                3333 non-null   int64  \n",
      " 61  state_is_VA                3333 non-null   int64  \n",
      " 62  state_is_VT                3333 non-null   int64  \n",
      " 63  state_is_WA                3333 non-null   int64  \n",
      " 64  state_is_WI                3333 non-null   int64  \n",
      " 65  state_is_WV                3333 non-null   int64  \n",
      " 66  state_is_WY                3333 non-null   int64  \n",
      " 67  area_code_is_408           3333 non-null   int64  \n",
      " 68  area_code_is_415           3333 non-null   int64  \n",
      " 69  area_code_is_510           3333 non-null   int64  \n",
      " 70  international_plan_is_yes  3333 non-null   int64  \n",
      " 71  voice_mail_plan_is_yes     3333 non-null   int64  \n",
      "dtypes: float64(8), int64(64)\n",
      "memory usage: 1.8 MB\n"
     ]
    }
   ],
   "source": [
    "df1.info()"
   ]
  },
  {
   "cell_type": "markdown",
   "id": "d416d3c9",
   "metadata": {},
   "source": [
    "# 3. Implement PCA from scratch on the given dataset."
   ]
  },
  {
   "cell_type": "code",
   "execution_count": 15,
   "id": "f7db8950",
   "metadata": {},
   "outputs": [],
   "source": [
    "from sklearn.decomposition import PCA\n",
    "from sklearn.preprocessing import StandardScaler\n",
    "pca=PCA(n_components=2)"
   ]
  },
  {
   "cell_type": "code",
   "execution_count": 16,
   "id": "a48adad3",
   "metadata": {},
   "outputs": [],
   "source": [
    "X = df1.drop(['churn'],axis=1)\n",
    "y = df1['churn']"
   ]
  },
  {
   "cell_type": "code",
   "execution_count": 17,
   "id": "ab295a22",
   "metadata": {},
   "outputs": [
    {
     "data": {
      "text/plain": [
       "array([[-87.43680709, -29.41203468, -30.307507  , -27.1096357 ,\n",
       "         10.18975559],\n",
       "       [ 17.3000627 , -34.29022196, -42.1823569 ,  -7.59526946,\n",
       "         19.80603107],\n",
       "       [-60.80587849, -46.87706818,  79.80067577, -33.80154473,\n",
       "         11.36647862],\n",
       "       ...,\n",
       "       [ -3.46110007,  78.33207939, -43.34383464,  72.05154438,\n",
       "          8.62041004],\n",
       "       [-32.4104635 ,  -1.05683459,  77.47260765, -80.3655983 ,\n",
       "        -11.4625234 ],\n",
       "       [-58.35795118,  30.31876693, -68.32767034,  25.56779077,\n",
       "         17.47560048]])"
      ]
     },
     "execution_count": 17,
     "metadata": {},
     "output_type": "execute_result"
    }
   ],
   "source": [
    "import numpy as np\n",
    "\n",
    "num_components=5\n",
    "\n",
    "#Step-1 Subtract the mean of each variable\n",
    "X_meaned = X - np.mean(X , axis = 0)\n",
    "\n",
    "#Step-2  Calculate the Covariance Matrix\n",
    "cov_mat = np.cov(X_meaned , rowvar = False)\n",
    "\n",
    "#Step-3 Compute the Eigenvalues and Eigenvectors\n",
    "eigen_values , eigen_vectors = np.linalg.eigh(cov_mat)\n",
    "\n",
    "#Step-4 Sort Eigenvalues in descending order\n",
    "sorted_index = np.argsort(eigen_values)[::-1]\n",
    "sorted_eigenvalue = eigen_values[sorted_index]\n",
    "sorted_eigenvectors = eigen_vectors[:,sorted_index]\n",
    "\n",
    "#Step-5 Select a subset from the rearranged Eigenvalue matrix\n",
    "eigenvector_subset = sorted_eigenvectors[:,0:num_components]\n",
    "\n",
    "#Step-6 Transform the data\n",
    "X_reduced = np.dot(eigenvector_subset.transpose() , X_meaned.transpose() ).transpose()\n",
    "     \n",
    "X_reduced"
   ]
  },
  {
   "cell_type": "markdown",
   "id": "bedba43f",
   "metadata": {},
   "source": [
    "# 4.Apply a combination of oversampling and undersampling techniques on an imbalanced dataset and evaluate the model's performance."
   ]
  },
  {
   "cell_type": "code",
   "execution_count": 18,
   "id": "fbe19c2d",
   "metadata": {},
   "outputs": [],
   "source": [
    "from imblearn.under_sampling import RandomUnderSampler\n",
    "\n",
    "# Create an instance of RandomUnderSampler\n",
    "rus = RandomUnderSampler()\n",
    "\n",
    "# Apply undersampling on the training set\n",
    "X_train_undersampled, y_train_undersampled = rus.fit_resample(X_reduced, y)"
   ]
  },
  {
   "cell_type": "code",
   "execution_count": 19,
   "id": "f1a43cd5",
   "metadata": {},
   "outputs": [],
   "source": [
    "from imblearn.over_sampling import RandomOverSampler\n",
    "\n",
    "# Create an instance of RandomOverSampler\n",
    "ros = RandomOverSampler()\n",
    "\n",
    "# Apply oversampling on the training set\n",
    "X_train_oversampled, y_train_oversampled = ros.fit_resample(X_train_undersampled, y_train_undersampled)"
   ]
  },
  {
   "cell_type": "markdown",
   "id": "717796dc",
   "metadata": {},
   "source": [
    "# 5.Split the dataset into training and testing sets. Train a Support vector machine (SVM)model to predict churn and evaluate its performance using appropriate evaluation metrics (e.g., accuracy, precision, recall, F1-score)."
   ]
  },
  {
   "cell_type": "code",
   "execution_count": 20,
   "id": "0f119fae",
   "metadata": {},
   "outputs": [],
   "source": [
    "from sklearn.model_selection import train_test_split\n",
    "from sklearn.svm import SVC\n",
    "from sklearn.metrics import confusion_matrix\n",
    "from sklearn import metrics\n",
    "from sklearn.metrics import roc_auc_score\n",
    "\n",
    "from sklearn.model_selection import cross_val_score\n",
    "from sklearn.metrics import precision_score\n",
    "from sklearn.metrics import recall_score\n",
    "from sklearn.metrics import accuracy_score\n",
    "%matplotlib inline\n",
    "import matplotlib.pyplot as plt"
   ]
  },
  {
   "cell_type": "markdown",
   "id": "eb59b4ee",
   "metadata": {},
   "source": [
    ">WITH APPLYING OVER AND UNDER SAMPLING TECHNIQUE DATA"
   ]
  },
  {
   "cell_type": "code",
   "execution_count": 21,
   "id": "7bae6c11",
   "metadata": {},
   "outputs": [],
   "source": [
    "X_train, X_test, y_train, y_test = train_test_split(X_train_undersampled, y_train_undersampled, test_size=0.10, random_state=42)"
   ]
  },
  {
   "cell_type": "code",
   "execution_count": 22,
   "id": "9f5cde57",
   "metadata": {},
   "outputs": [
    {
     "name": "stdout",
     "output_type": "stream",
     "text": [
      "SVM Accuracy: 0.6907216494845361\n",
      "Cross Validation Score :  71.24%\n",
      "ROC_AUC Score :  71.88%\n",
      "Precision: 0.903\n",
      "Recall: 0.509\n"
     ]
    }
   ],
   "source": [
    "clf =SVC(kernel = 'rbf', random_state = 0)\n",
    "clf.fit(X_train_undersampled, y_train_undersampled);\n",
    "print(f\"SVM Accuracy: {clf.score(X_test,y_test)}\")\n",
    "y_pred = clf.predict(X_test)\n",
    "\n",
    "print(\"Cross Validation Score : \",'{0:.2%}'.format(cross_val_score(clf,X_train_undersampled,y_train_undersampled\n",
    "                                                                   ,scoring = 'roc_auc').mean()))\n",
    "print(\"ROC_AUC Score : \",'{0:.2%}'.format(roc_auc_score(y_test,y_pred)))\n",
    "print('Precision: %.3f' % precision_score(y_test, y_pred))\n",
    "print('Recall: %.3f' % recall_score(y_test, y_pred))"
   ]
  },
  {
   "cell_type": "code",
   "execution_count": 23,
   "id": "a8c8b7d2",
   "metadata": {},
   "outputs": [
    {
     "data": {
      "image/png": "[encoded data removed]",
      "text/plain": [
       "<Figure size 640x480 with 2 Axes>"
      ]
     },
     "metadata": {},
     "output_type": "display_data"
    }
   ],
   "source": [
    "confusion_matrix1 = metrics.confusion_matrix(y_test, y_pred)\n",
    "cm_display1= metrics.ConfusionMatrixDisplay(confusion_matrix = confusion_matrix1, display_labels = [\"Not churn\", \"Churn\"])\n",
    "cm_display1.plot()\n",
    "plt.show()"
   ]
  },
  {
   "cell_type": "markdown",
   "id": "1db1c94a",
   "metadata": {},
   "source": [
    "> WITHOUT APPLYING OVER AND UNDER SAMPLING TECHNIQUE DATA"
   ]
  },
  {
   "cell_type": "code",
   "execution_count": 24,
   "id": "731daf11",
   "metadata": {},
   "outputs": [],
   "source": [
    "X = df1.drop(['churn'],axis=1)\n",
    "y = df1['churn']\n",
    "X_train, X_test, y_train, y_test = train_test_split(X, y, test_size=0.40, random_state=42)"
   ]
  },
  {
   "cell_type": "code",
   "execution_count": 25,
   "id": "54a29dba",
   "metadata": {},
   "outputs": [
    {
     "name": "stdout",
     "output_type": "stream",
     "text": [
      "SVM Accuracy: 0.8530734632683659\n",
      "Cross Validation Score :  74.40%\n",
      "ROC_AUC Score :  50.00%\n",
      "Precision: 0.000\n",
      "Recall: 0.000\n"
     ]
    },
    {
     "name": "stderr",
     "output_type": "stream",
     "text": [
      "C:\\Users\\ASUS\\anaconda3\\lib\\site-packages\\sklearn\\metrics\\_classification.py:1344: UndefinedMetricWarning: Precision is ill-defined and being set to 0.0 due to no predicted samples. Use `zero_division` parameter to control this behavior.\n",
      "  _warn_prf(average, modifier, msg_start, len(result))\n"
     ]
    }
   ],
   "source": [
    "clf =SVC(kernel = 'rbf', random_state = 0)\n",
    "clf.fit(X, y);\n",
    "print(f\"SVM Accuracy: {clf.score(X_test,y_test)}\")\n",
    "y_pred = clf.predict(X_test)\n",
    "\n",
    "print(\"Cross Validation Score : \",'{0:.2%}'.format(cross_val_score(clf,X,y,scoring = 'roc_auc').mean()))\n",
    "print(\"ROC_AUC Score : \",'{0:.2%}'.format(roc_auc_score(y_test,y_pred)))\n",
    "print('Precision: %.3f' % precision_score(y_test, y_pred))\n",
    "print('Recall: %.3f' % recall_score(y_test, y_pred))"
   ]
  },
  {
   "cell_type": "code",
   "execution_count": 26,
   "id": "98139179",
   "metadata": {},
   "outputs": [
    {
     "data": {
      "image/png": "[encoded data removed]",
      "text/plain": [
       "<Figure size 640x480 with 2 Axes>"
      ]
     },
     "metadata": {},
     "output_type": "display_data"
    }
   ],
   "source": [
    "confusion_matrix = metrics.confusion_matrix(y_test, y_pred)\n",
    "cm_display = metrics.ConfusionMatrixDisplay(confusion_matrix = confusion_matrix, display_labels = [\"Not churn\", \"Churn\"])\n",
    "cm_display.plot()\n",
    "plt.show()"
   ]
  },
  {
   "cell_type": "markdown",
   "id": "de74584a",
   "metadata": {},
   "source": [
    "# 6.Use cross-validation to compare the performance of different classifiers on a given dataset and select the best one."
   ]
  },
  {
   "cell_type": "markdown",
   "id": "8150540c",
   "metadata": {},
   "source": [
    ">WITH APPLYING OVER AND UNDER SAMPLING TECHNIQUE DATA"
   ]
  },
  {
   "cell_type": "code",
   "execution_count": 27,
   "id": "828d26c7",
   "metadata": {},
   "outputs": [],
   "source": [
    "from sklearn.model_selection import cross_val_score\n",
    "from sklearn.model_selection import KFold\n",
    "from sklearn.metrics import accuracy_score\n",
    "from sklearn.neighbors import KNeighborsClassifier\n",
    "from sklearn.tree import DecisionTreeClassifier\n",
    "from sklearn.ensemble import RandomForestClassifier\n",
    "from sklearn.linear_model import LogisticRegression\n",
    "from sklearn.ensemble import GradientBoostingClassifier"
   ]
  },
  {
   "cell_type": "code",
   "execution_count": 28,
   "id": "08d51f77",
   "metadata": {},
   "outputs": [
    {
     "name": "stdout",
     "output_type": "stream",
     "text": [
      "Cross Validation Scores are [0.7        0.5        0.65       0.5        0.45       0.5\n",
      " 0.6        0.55       0.5        0.6        0.65       0.6\n",
      " 0.55       0.65       0.6        0.35       0.73684211 0.57894737\n",
      " 0.63157895 0.68421053 0.57894737 0.57894737 0.52631579 0.63157895\n",
      " 0.36842105 0.47368421 0.52631579 0.57894737 0.63157895 0.63157895\n",
      " 0.57894737 0.57894737 0.47368421 0.52631579 0.42105263 0.57894737\n",
      " 0.52631579 0.52631579 0.52631579 0.78947368 0.57894737 0.47368421\n",
      " 0.26315789 0.73684211 0.84210526 0.52631579 0.57894737 0.47368421\n",
      " 0.47368421 0.52631579]\n",
      "Average Cross Validation score :0.5621578947368421\n"
     ]
    }
   ],
   "source": [
    "# Logistic Regression\n",
    "logreg=LogisticRegression()\n",
    "kf=KFold(n_splits=50)\n",
    "score=cross_val_score(logreg,X_train_undersampled,y_train_undersampled,cv=kf)\n",
    "print(\"Cross Validation Scores are {}\".format(score))\n",
    "print(\"Average Cross Validation score :{}\".format(score.mean()))"
   ]
  },
  {
   "cell_type": "code",
   "execution_count": 29,
   "id": "9d6e2384",
   "metadata": {},
   "outputs": [
    {
     "name": "stdout",
     "output_type": "stream",
     "text": [
      "Cross Validation Scores are [0.85       0.65       0.8        0.55       0.8        0.7\n",
      " 0.65       0.75       0.8        0.8        0.8        0.65\n",
      " 0.7        0.9        0.8        0.9        0.73684211 0.84210526\n",
      " 0.63157895 0.63157895 0.68421053 0.63157895 0.63157895 0.68421053\n",
      " 0.73684211 0.47368421 0.47368421 0.47368421 0.42105263 0.68421053\n",
      " 0.57894737 0.47368421 0.52631579 0.47368421 0.57894737 0.57894737\n",
      " 0.57894737 0.57894737 0.52631579 0.78947368 0.57894737 0.42105263\n",
      " 0.36842105 0.52631579 0.73684211 0.63157895 0.52631579 0.68421053\n",
      " 0.47368421 0.63157895]\n",
      "Average Cross Validation score :0.6419999999999999\n"
     ]
    }
   ],
   "source": [
    "# Random Forest\n",
    "rf=RandomForestClassifier()\n",
    "kf=KFold(n_splits=50)\n",
    "score=cross_val_score(rf,X_train_undersampled,y_train_undersampled,cv=kf)\n",
    "print(\"Cross Validation Scores are {}\".format(score))\n",
    "print(\"Average Cross Validation score :{}\".format(score.mean()))"
   ]
  },
  {
   "cell_type": "code",
   "execution_count": 30,
   "id": "65eb3c9d",
   "metadata": {},
   "outputs": [
    {
     "name": "stdout",
     "output_type": "stream",
     "text": [
      "Cross Validation Scores are [0.65       0.6        0.65       0.6        0.65       0.45\n",
      " 0.55       0.5        0.6        0.65       0.7        0.6\n",
      " 0.5        0.5        0.65       0.6        0.68421053 0.57894737\n",
      " 0.47368421 0.57894737 0.63157895 0.42105263 0.57894737 0.57894737\n",
      " 0.78947368 0.57894737 0.63157895 0.68421053 0.36842105 0.63157895\n",
      " 0.57894737 0.42105263 0.47368421 0.68421053 0.42105263 0.73684211\n",
      " 0.73684211 0.52631579 0.68421053 0.63157895 0.52631579 0.57894737\n",
      " 0.52631579 0.73684211 0.73684211 0.52631579 0.63157895 0.68421053\n",
      " 0.63157895 0.63157895]\n",
      "Average Cross Validation score :0.5953157894736842\n"
     ]
    }
   ],
   "source": [
    "#decision tree\n",
    "dt=DecisionTreeClassifier()\n",
    "kf=KFold(n_splits=50)\n",
    "score=cross_val_score(dt,X_train_undersampled,y_train_undersampled,cv=kf)\n",
    "print(\"Cross Validation Scores are {}\".format(score))\n",
    "print(\"Average Cross Validation score :{}\".format(score.mean()))"
   ]
  },
  {
   "cell_type": "code",
   "execution_count": 31,
   "id": "5c318d16",
   "metadata": {},
   "outputs": [
    {
     "name": "stdout",
     "output_type": "stream",
     "text": [
      "Cross Validation Scores are [0.5        0.6        0.8        0.6        0.65       0.75\n",
      " 0.7        0.6        0.65       0.75       0.75       0.7\n",
      " 0.8        0.5        0.6        0.6        0.57894737 0.84210526\n",
      " 0.47368421 0.78947368 0.78947368 0.42105263 0.63157895 0.63157895\n",
      " 0.73684211 0.47368421 0.57894737 0.63157895 0.52631579 0.63157895\n",
      " 0.63157895 0.52631579 0.68421053 0.47368421 0.42105263 0.52631579\n",
      " 0.52631579 0.52631579 0.47368421 0.78947368 0.63157895 0.47368421\n",
      " 0.36842105 0.63157895 0.63157895 0.36842105 0.63157895 0.73684211\n",
      " 0.68421053 0.84210526]\n",
      "Average Cross Validation score :0.6173157894736842\n"
     ]
    }
   ],
   "source": [
    "# KNN\n",
    "knn=KNeighborsClassifier()\n",
    "kf=KFold(n_splits=50)\n",
    "score=cross_val_score(knn,X_train_undersampled,y_train_undersampled,cv=kf)\n",
    "print(\"Cross Validation Scores are {}\".format(score))\n",
    "print(\"Average Cross Validation score :{}\".format(score.mean()))"
   ]
  },
  {
   "cell_type": "code",
   "execution_count": 32,
   "id": "7b3c78fa",
   "metadata": {},
   "outputs": [
    {
     "name": "stdout",
     "output_type": "stream",
     "text": [
      "Cross Validation Scores are [0.6        0.7        0.8        0.9        0.8        0.8\n",
      " 0.95       0.85       0.85       0.8        1.         0.9\n",
      " 0.8        0.8        0.85       0.85       0.89473684 0.94736842\n",
      " 0.63157895 0.73684211 0.73684211 0.73684211 0.84210526 0.73684211\n",
      " 0.68421053 0.36842105 0.42105263 0.42105263 0.36842105 0.52631579\n",
      " 0.52631579 0.36842105 0.42105263 0.42105263 0.31578947 0.47368421\n",
      " 0.42105263 0.36842105 0.42105263 0.68421053 0.47368421 0.36842105\n",
      " 0.15789474 0.63157895 0.68421053 0.36842105 0.52631579 0.42105263\n",
      " 0.42105263 0.47368421]\n",
      "Average Cross Validation score :0.625\n"
     ]
    }
   ],
   "source": [
    "# SVM\n",
    "svm=SVC()\n",
    "kf=KFold(n_splits=50)\n",
    "score=cross_val_score(svm,X_train_undersampled,y_train_undersampled,cv=kf)\n",
    "print(\"Cross Validation Scores are {}\".format(score))\n",
    "print(\"Average Cross Validation score :{}\".format(score.mean()))"
   ]
  },
  {
   "cell_type": "code",
   "execution_count": 33,
   "id": "87e13bfc",
   "metadata": {},
   "outputs": [
    {
     "name": "stdout",
     "output_type": "stream",
     "text": [
      "Cross Validation Scores are [0.8        0.75       0.9        0.55       0.6        0.75\n",
      " 0.7        0.65       0.8        0.8        0.75       0.65\n",
      " 0.75       0.8        0.8        0.75       0.78947368 0.73684211\n",
      " 0.68421053 0.84210526 0.73684211 0.68421053 0.63157895 0.78947368\n",
      " 0.73684211 0.42105263 0.47368421 0.63157895 0.31578947 0.52631579\n",
      " 0.57894737 0.52631579 0.52631579 0.42105263 0.31578947 0.63157895\n",
      " 0.52631579 0.47368421 0.47368421 0.63157895 0.57894737 0.42105263\n",
      " 0.26315789 0.52631579 0.73684211 0.47368421 0.57894737 0.68421053\n",
      " 0.52631579 0.63157895]\n",
      "Average Cross Validation score :0.6265263157894737\n"
     ]
    }
   ],
   "source": [
    "# gradient boosting\n",
    "gb=GradientBoostingClassifier()\n",
    "kf=KFold(n_splits=50)\n",
    "score=cross_val_score(gb,X_train_undersampled,y_train_undersampled,cv=kf)\n",
    "print(\"Cross Validation Scores are {}\".format(score))\n",
    "print(\"Average Cross Validation score :{}\".format(score.mean()))"
   ]
  },
  {
   "cell_type": "code",
   "execution_count": 34,
   "id": "ae7b58c6",
   "metadata": {},
   "outputs": [
    {
     "name": "stdout",
     "output_type": "stream",
     "text": [
      "Classifier             Cross-validation\n",
      "-------------------  ------------------\n",
      "Random Forest                     64.35\n",
      "KNN                               63.58\n",
      "Gradient boosting                 63.25\n",
      "SVM                               62.32\n",
      "Decision Tree                     57.83\n",
      "Logistic regression               57.83\n"
     ]
    }
   ],
   "source": [
    "from tabulate import tabulate\n",
    " \n",
    "print(tabulate([['Random Forest', 64.35], ['KNN', 63.58], ['Gradient boosting', 63.25],\n",
    "                ['SVM', 62.32],['Decision Tree', 57.83],\n",
    "                ['Logistic regression', 57.83]],\n",
    "               headers=['Classifier', 'Cross-validation']))"
   ]
  },
  {
   "cell_type": "markdown",
   "id": "3df91ec2",
   "metadata": {},
   "source": [
    "> WITHOUT APPLYING OVER AND UNDER SAMPLING TECHNIQUE DATA"
   ]
  },
  {
   "cell_type": "code",
   "execution_count": 35,
   "id": "b0bbd53a",
   "metadata": {},
   "outputs": [],
   "source": [
    "import warnings\n",
    "warnings.filterwarnings('ignore')\n",
    "X = df1.drop(['churn'],axis=1)\n",
    "y = df1['churn']\n",
    "X_train, X_test, y_train, y_test = train_test_split(X, y, test_size=0.40, random_state=42)"
   ]
  },
  {
   "cell_type": "code",
   "execution_count": 36,
   "id": "66a1e444",
   "metadata": {},
   "outputs": [
    {
     "name": "stdout",
     "output_type": "stream",
     "text": [
      "Cross Validation Scores are [0.925      0.8        0.875      0.825      0.7        0.9\n",
      " 0.825      0.875      0.9        0.875      0.9        0.9\n",
      " 0.925      0.85       0.85       0.725      0.85       0.95\n",
      " 0.875      0.9        0.85       0.875      0.875      0.9\n",
      " 0.9        0.875      0.825      0.925      0.75       0.875\n",
      " 0.825      0.95       0.975      0.825      0.825      0.825\n",
      " 0.9        0.825      0.775      0.825      0.75       0.875\n",
      " 0.875      0.85       0.825      0.8        0.775      0.9\n",
      " 0.875      0.87179487]\n",
      "Average Cross Validation score :0.8564358974358974\n"
     ]
    }
   ],
   "source": [
    "# Logistic Regression\n",
    "logreg=LogisticRegression()\n",
    "kf=KFold(n_splits=50)\n",
    "score=cross_val_score(logreg,X_train,y_train,cv=kf)\n",
    "print(\"Cross Validation Scores are {}\".format(score))\n",
    "print(\"Average Cross Validation score :{}\".format(score.mean()))"
   ]
  },
  {
   "cell_type": "code",
   "execution_count": 37,
   "id": "eee200fd",
   "metadata": {},
   "outputs": [
    {
     "name": "stdout",
     "output_type": "stream",
     "text": [
      "Cross Validation Scores are [0.9        0.8        0.875      0.85       0.675      0.925\n",
      " 0.85       0.85       0.9        0.875      0.875      0.875\n",
      " 0.9        0.875      0.85       0.75       0.825      0.875\n",
      " 0.875      0.875      0.85       0.875      0.875      0.9\n",
      " 0.925      0.875      0.85       0.925      0.775      0.9\n",
      " 0.825      0.95       0.95       0.875      0.825      0.8\n",
      " 0.9        0.825      0.775      0.875      0.8        0.875\n",
      " 0.875      0.825      0.825      0.825      0.775      0.875\n",
      " 0.875      0.84615385]\n",
      "Average Cross Validation score :0.856423076923077\n"
     ]
    }
   ],
   "source": [
    "svm=SVC()\n",
    "kf=KFold(n_splits=50)\n",
    "score=cross_val_score(svm,X_train,y_train,cv=kf)\n",
    "print(\"Cross Validation Scores are {}\".format(score))\n",
    "print(\"Average Cross Validation score :{}\".format(score.mean()))"
   ]
  },
  {
   "cell_type": "code",
   "execution_count": 38,
   "id": "8d15bbb9",
   "metadata": {},
   "outputs": [
    {
     "name": "stdout",
     "output_type": "stream",
     "text": [
      "Cross Validation Scores are [0.95       0.9        0.925      0.925      0.825      1.\n",
      " 0.925      0.875      0.95       0.925      0.925      0.925\n",
      " 0.95       0.975      0.875      0.875      0.95       0.925\n",
      " 0.925      0.95       0.925      0.975      0.95       0.975\n",
      " 0.925      0.95       0.9        0.925      0.85       0.925\n",
      " 0.925      0.95       0.975      0.975      0.925      0.975\n",
      " 0.925      0.9        0.9        0.925      0.9        0.925\n",
      " 0.925      0.9        0.95       0.9        0.9        0.95\n",
      " 0.925      0.92307692]\n",
      "Average Cross Validation score :0.9269615384615384\n"
     ]
    }
   ],
   "source": [
    "# Random Forest\n",
    "rf=RandomForestClassifier()\n",
    "kf=KFold(n_splits=50)\n",
    "score=cross_val_score(rf,X_train,y_train,cv=kf)\n",
    "print(\"Cross Validation Scores are {}\".format(score))\n",
    "print(\"Average Cross Validation score :{}\".format(score.mean()))"
   ]
  },
  {
   "cell_type": "code",
   "execution_count": 39,
   "id": "d8491bf2",
   "metadata": {},
   "outputs": [
    {
     "name": "stdout",
     "output_type": "stream",
     "text": [
      "Cross Validation Scores are [0.85      0.95      0.825     0.925     0.95      0.975     0.9\n",
      " 0.85      0.95      0.925     0.875     0.9       0.9       0.95\n",
      " 0.9       0.9       0.875     0.925     0.975     0.9       0.925\n",
      " 0.925     0.825     0.875     0.875     0.925     0.875     0.9\n",
      " 0.825     0.95      0.95      0.95      0.95      0.975     0.925\n",
      " 0.925     0.925     0.875     0.9       0.925     0.875     0.9\n",
      " 0.95      0.9       0.95      0.975     0.95      0.85      0.925\n",
      " 0.8974359]\n",
      "Average Cross Validation score :0.9114487179487178\n"
     ]
    }
   ],
   "source": [
    "#decision tree\n",
    "dt=DecisionTreeClassifier()\n",
    "kf=KFold(n_splits=50)\n",
    "score=cross_val_score(dt,X_train,y_train,cv=kf)\n",
    "print(\"Cross Validation Scores are {}\".format(score))\n",
    "print(\"Average Cross Validation score :{}\".format(score.mean()))"
   ]
  },
  {
   "cell_type": "code",
   "execution_count": 40,
   "id": "e3151c7a",
   "metadata": {},
   "outputs": [
    {
     "name": "stdout",
     "output_type": "stream",
     "text": [
      "Cross Validation Scores are [0.95      0.875     0.85      0.85      0.675     0.95      0.85\n",
      " 0.9       0.95      0.875     0.875     0.9       0.875     0.875\n",
      " 0.825     0.75      0.85      0.775     0.9       0.925     0.875\n",
      " 0.9       0.85      0.9       0.925     0.9       0.875     0.925\n",
      " 0.775     0.875     0.85      0.925     0.95      0.875     0.75\n",
      " 0.85      0.925     0.825     0.75      0.875     0.875     0.925\n",
      " 0.875     0.875     0.875     0.875     0.875     0.9       0.825\n",
      " 0.8974359]\n",
      "Average Cross Validation score :0.8689487179487179\n"
     ]
    }
   ],
   "source": [
    "# KNN\n",
    "knn=KNeighborsClassifier()\n",
    "kf=KFold(n_splits=50)\n",
    "score=cross_val_score(knn,X_train,y_train,cv=kf)\n",
    "print(\"Cross Validation Scores are {}\".format(score))\n",
    "print(\"Average Cross Validation score :{}\".format(score.mean()))"
   ]
  },
  {
   "cell_type": "code",
   "execution_count": 41,
   "id": "0112c219",
   "metadata": {},
   "outputs": [
    {
     "name": "stdout",
     "output_type": "stream",
     "text": [
      "Cross Validation Scores are [0.95       0.95       0.925      0.9        0.875      1.\n",
      " 0.975      0.925      0.925      0.975      0.925      0.925\n",
      " 0.95       0.975      0.95       0.925      0.95       0.925\n",
      " 0.975      0.95       0.95       0.975      0.95       0.95\n",
      " 0.95       0.975      0.9        0.925      0.85       1.\n",
      " 0.95       0.975      0.975      0.975      0.975      0.95\n",
      " 0.925      0.9        0.9        0.95       0.925      0.975\n",
      " 0.925      0.95       0.975      0.975      0.925      1.\n",
      " 0.925      0.97435897]\n",
      "Average Cross Validation score :0.9459871794871795\n"
     ]
    }
   ],
   "source": [
    "# gradient boosting\n",
    "gb=GradientBoostingClassifier()\n",
    "kf=KFold(n_splits=50)\n",
    "score=cross_val_score(gb,X_train,y_train,cv=kf)\n",
    "print(\"Cross Validation Scores are {}\".format(score))\n",
    "print(\"Average Cross Validation score :{}\".format(score.mean()))"
   ]
  },
  {
   "cell_type": "code",
   "execution_count": 42,
   "id": "6f11f1c2",
   "metadata": {},
   "outputs": [
    {
     "name": "stdout",
     "output_type": "stream",
     "text": [
      "Classifier           Cross-validation\n",
      "-------------------  ------------------\n",
      "Gradient boosting    94.69\n",
      "Random Forest        92.44\n",
      "Decision Tree        90.49\n",
      "KNN                  86.89\n",
      "SVM                  85.64\n",
      "Logistic regression  -----\n"
     ]
    }
   ],
   "source": [
    "print(tabulate([['Gradient boosting', 94.69],['Random Forest', 92.44],['Decision Tree', 90.49],['KNN', 86.89],\n",
    "                ['SVM', 85.64],['Logistic regression', \"-----\"]],\n",
    "               headers=['Classifier','Cross-validation']))"
   ]
  },
  {
   "cell_type": "markdown",
   "id": "edafc57e",
   "metadata": {},
   "source": [
    "# 7.You are working with a churn telecom dataset for predicting customer churn. After building a machine learning model, you observe that the model's performance on the training set is significantly better than on the test set. Analyze the situation and answer the following questions:"
   ]
  },
  {
   "cell_type": "markdown",
   "id": "57921d00",
   "metadata": {},
   "source": [
    "1. If the model suffer from overfitting or underfitting . Explain your reasoning."
   ]
  },
  {
   "cell_type": "markdown",
   "id": "cc732bcc",
   "metadata": {},
   "source": [
    "Based on the observation that the model's performance on the training is significantly better than on the test set, it suggests that the model is likely suffering from overfitting. Overfitting occurs when a model learns the training data too well, capturing noise or random fluctuations instead of the underlying patterns. As a result, the model becomes too complex and fails to generalize well to unseen data.We can also observe this by confusion matrix below"
   ]
  },
  {
   "attachments": {
    "image.png": {
     "image/png": "[encoded data removed]"
    }
   },
   "cell_type": "markdown",
   "id": "b9abb340",
   "metadata": {},
   "source": [
    "![image.png](attachment:image.png)"
   ]
  },
  {
   "cell_type": "markdown",
   "id": "5de5ef42",
   "metadata": {},
   "source": [
    "2. Discuss the potential consequences of overfitting or underfitting in this churn prediction\n",
    "scenario."
   ]
  },
  {
   "cell_type": "markdown",
   "id": "bc44716e",
   "metadata": {},
   "source": [
    "If thе modеl is ovеrfitting, it will havе еxcеllеnt pеrformancе on thе training sеt but will strugglе to gеnеralizе to nеw, unsееn data. Consеquеntly, whеn appliеd to thе tеst sеt or rеal-world data, thе ovеrfittеd modеl may providе inaccuratе churn prеdictions. This can lеad to poor dеcision-making, as thе modеl may not еffеctivеly idеntify customеrs at risk of churn. "
   ]
  },
  {
   "cell_type": "markdown",
   "id": "db9fbe00",
   "metadata": {},
   "source": [
    "3. Propose and implement a strategy to handle the observed overfitting or underfitting. Evaluate\n",
    "the model's performance after implementing the strategy and compare it to the initial results."
   ]
  },
  {
   "cell_type": "markdown",
   "id": "b57b09c4",
   "metadata": {},
   "source": [
    "stratеgy to handlе it:\n",
    "\n",
    "Fеaturе sеlеction: Rеviеw thе fеaturеs usеd for training thе modеl. It's possiblе that thе modеl is ovеrfitting duе to irrеlеvant or noisy fеaturеs. Considеr pеrforming fеaturе sеlеction tеchniquеs (е.g., using domain knowlеdgе, statistical mеthods, or fеaturе importancе from еnsеmblе modеls) to sеlеct thе most informativе and rеlеvant fеaturеs.\n",
    "\n",
    "Rеgularization: Apply rеgularization tеchniquеs to control thе complеxity of thе modеl and prеvеnt ovеrfitting. Onе common rеgularization tеchniquе is adding a pеnalty tеrm to thе loss function, such as L1 or L2 rеgularization. Rеgularization hеlps rеducе thе impact of irrеlеvant fеaturеs and discouragеs ovеrly complеx modеl rеprеsеntations.\n",
    "\n",
    "Hypеrparamеtеr tuning: Optimizе thе modеl's hypеrparamеtеrs to find thе bеst configuration that balancеs bеtwееn undеrfitting and ovеrfitting. Hypеrparamеtеrs control thе bеhavior of thе modеl, and tuning thеm can hеlp improvе pеrformancе. Considеr using tеchniquеs likе grid sеarch or random sеarch to еxplorе diffеrеnt hypеrparamеtеr combinations and sеlеct thе onеs that yiеld thе bеst rеsults.\n",
    "\n",
    "Cross-validation: Rе-еvaluatе thе modеl using cross-validation tеchniquеs (е.g., k-fold cross-validation). Cross-validation providеs a morе rеliablе еstimatе of thе modеl's pеrformancе by training and еvaluating it on multiplе subsеts of thе data. This hеlps assеss thе gеnеralization ability of thе modеl and rеducеs thе impact of data variability.\n",
    "\n",
    "Evaluatе pеrformancе: Aftеr implеmеnting thе abovе stratеgiеs, еvaluatе thе pеrformancе of thе updatеd modеl on both thе training and tеst sеts. Comparе thе pеrformancе mеtrics (е.g., accuracy, prеcision, rеcall, F1 scorе) to assеss if thе ovеrfitting or undеrfitting has bееn mitigatеd. "
   ]
  },
  {
   "cell_type": "markdown",
   "id": "27b9bd2e",
   "metadata": {},
   "source": [
    "We can observe that by feature selection using pca and then Applying the combination of oversampling and undersampling techniques on an imbalanced dataset, our confusion matrix becomes:"
   ]
  },
  {
   "attachments": {
    "image-2.png": {
     "image/png": "[encoded data removed]"
    }
   },
   "cell_type": "markdown",
   "id": "62d2aec9",
   "metadata": {},
   "source": [
    "![image-2.png](attachment:image-2.png)"
   ]
  },
  {
   "cell_type": "code",
   "execution_count": 43,
   "id": "3eda9575",
   "metadata": {},
   "outputs": [
    {
     "name": "stdout",
     "output_type": "stream",
     "text": [
      "Classifier             Cross-validation    Cross-validation with over and under sampling\n",
      "-------------------  ------------------  -----------------------------------------------\n",
      "Gradient boosting                 94.69                                            63.25\n",
      "Random Forest                     92.44                                            64.35\n",
      "Decision Tree                     90.49                                            57.83\n",
      "KNN                               86.89                                            63.58\n",
      "SVM                               85.64                                            62.32\n",
      "Logistic regression               85.64                                            57.83\n"
     ]
    }
   ],
   "source": [
    "print(tabulate([['Gradient boosting', 94.69, 63.25],['Random Forest', 92.44, 64.35],['Decision Tree', 90.49, 57.83],\n",
    "                ['KNN', 86.89, 63.58],['SVM',85.64,62.32],['Logistic regression', 85.64, 57.83]],\n",
    "               headers=['Classifier', 'Cross-validation', 'Cross-validation with over and under sampling']))"
   ]
  },
  {
   "cell_type": "code",
   "execution_count": null,
   "id": "42695bbf",
   "metadata": {},
   "outputs": [],
   "source": []
  }
 ],
 "metadata": {
  "kernelspec": {
   "display_name": "Python 3 (ipykernel)",
   "language": "python",
   "name": "python3"
  },
  "language_info": {
   "codemirror_mode": {
    "name": "ipython",
    "version": 3
   },
   "file_extension": ".py",
   "mimetype": "text/x-python",
   "name": "python",
   "nbconvert_exporter": "python",
   "pygments_lexer": "ipython3",
   "version": "3.9.12"
  }
 },
 "nbformat": 4,
 "nbformat_minor": 5
}
